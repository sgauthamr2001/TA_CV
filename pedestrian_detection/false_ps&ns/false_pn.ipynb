{
  "nbformat": 4,
  "nbformat_minor": 0,
  "metadata": {
    "colab": {
      "name": "false_pn",
      "provenance": [],
      "collapsed_sections": []
    },
    "kernelspec": {
      "name": "python3",
      "display_name": "Python 3"
    }
  },
  "cells": [
    {
      "cell_type": "markdown",
      "metadata": {
        "id": "QaabcdBBFcCU"
      },
      "source": [
        "Mounting Google Drive to colab"
      ]
    },
    {
      "cell_type": "code",
      "metadata": {
        "id": "knnMAB7Z4kmb"
      },
      "source": [
        "from google.colab import drive\n",
        "drive.mount('/content/drive')"
      ],
      "execution_count": null,
      "outputs": []
    },
    {
      "cell_type": "markdown",
      "metadata": {
        "id": "1PIwEDKyFL71"
      },
      "source": [
        "1.Importing necessary modules\n",
        "\n",
        "2.Defining function to determine IoU"
      ]
    },
    {
      "cell_type": "code",
      "metadata": {
        "id": "5NDJQPu9FANB"
      },
      "source": [
        "import os\n",
        "import cv2\n",
        "\n",
        "def bbox_iou(box1, box2):\n",
        "\t\n",
        "    b1_x1, b1_x2 = (box1[0] - box1[2] / 2), (box1[0] + box1[2] / 2)\n",
        "    b1_y1, b1_y2 = (box1[1] - box1[3] / 2), (box1[1] + box1[3] / 2)\n",
        "    b2_x1, b2_x2 = (box2[0] - box2[2] / 2), (box2[0] + box2[2] / 2)\n",
        "    b2_y1, b2_y2 = (box2[1] - box2[3] / 2), (box2[1] + box2[3] / 2)\n",
        "\n",
        "    # Intersection area\n",
        "    inter = (min(b1_x2, b2_x2) - max(b1_x1, b2_x1))*(min(b1_y2, b2_y2) - max(b1_y1, b2_y1))\n",
        "\n",
        "    # Union Area\n",
        "    w1, h1 = b1_x2 - b1_x1, b1_y2 - b1_y1\n",
        "    w2, h2 = b2_x2 - b2_x1, b2_y2 - b2_y1\n",
        "    union = (w1 * h1 + 1e-16) + w2 * h2 - inter\n",
        "    iou = inter / union \n",
        "\n",
        "    return iou"
      ],
      "execution_count": null,
      "outputs": []
    },
    {
      "cell_type": "markdown",
      "metadata": {
        "id": "cWCeUWfSF8uN"
      },
      "source": [
        "Requirements :\n",
        "\n",
        "1. All images and labels in path_output and path_true should not be present in sub-directories of the given path and all of them should be in the same given path.\n",
        "\n",
        "2. Create directories with paths as path_display,path_fp,path_tn for outputs to be saved.\n"
      ]
    },
    {
      "cell_type": "markdown",
      "metadata": {
        "id": "cOPEvyOsFjx7"
      },
      "source": [
        "Execute the following cell for plotting ground truth bounding boxes and predicted bounding boxes on the images"
      ]
    },
    {
      "cell_type": "code",
      "metadata": {
        "id": "_phXS2Xc4lNN"
      },
      "source": [
        "path_output  = #<Path to the bbox output given by network>\n",
        "path_true    = #<Path to original image and true bbox directory> \n",
        "path_display = #<Path where images are to be stored> \n",
        "list_img = []\n",
        "\n",
        "for r, d, f in os.walk(path_true):\n",
        "    for file in f:\n",
        "        if '.jpg' in file:\n",
        "          \tlist_img.append(file)\n",
        "\n",
        "for img_loc in list_img:\n",
        "    loc = img_loc[:-4] + '.txt'\n",
        "    file_output = path_output + loc\n",
        "    file_true = path_true + loc\n",
        "    img_path = path_true + img_loc\n",
        "    img_path_out = path_display + img_loc\n",
        "    bbox_output = []\n",
        "    bbox_true = []\n",
        "    line_1 = []\n",
        "    line_2 = []\n",
        "    try:\n",
        "        line_1 = open(file_output,\"r\").readlines()\n",
        "    except FileNotFoundError:\n",
        "        print(\"Wrong file or file path\")\n",
        "    try:\n",
        "        line_2 = open(file_true,\"r\").readlines()\n",
        "    except FileNotFoundError:\n",
        "        print(\"Wrong file or file path\")    \n",
        " \n",
        "    for entry in line_1:\n",
        "        bbox_1 = (entry.split(' ')[1:5])\n",
        "        bbox_1 = [float(item) for item in bbox_1]\n",
        "        bbox_output.append(bbox_1)\n",
        "    for entry in line_2:\n",
        "        bbox_2 = (entry.split(' ')[1:5])\n",
        "        bbox_2 = [float(item) for item in bbox_2]\n",
        "        bbox_true.append(bbox_2)  \n",
        "   \n",
        "    print(img_path)\n",
        "    frame = cv2.imread(img_path)\n",
        "    height,width = frame.shape[0],frame.shape[1]\n",
        "    for (x,y,w,h) in bbox_output:\n",
        "        left =int((x - (w/2))*width)\n",
        "        right = int((x + (w/2))*width)\n",
        "        bottom = int((y + (h/2))*height)\n",
        "        top = int((y - (h/2))*height)\n",
        "        cv2.rectangle(frame, (left, top), (right, bottom), (0,255, 0), 2)\n",
        "    for [x,y,w,h] in bbox_true:\n",
        "        left =int((x - (w/2))*width)\n",
        "        right = int((x + (w/2))*width)\n",
        "        bottom = int((y + (h/2))*height)\n",
        "        top = int((y - (h/2))*height)\n",
        "        cv2.rectangle(frame, (left, top), (right, bottom), (0,0,255),3)\n",
        "    cv2.imwrite(img_path_out,frame)\n",
        "    \n",
        "cv2.destroyAllWindows()"
      ],
      "execution_count": null,
      "outputs": []
    },
    {
      "cell_type": "markdown",
      "metadata": {
        "id": "zNNw1_vtGZfU"
      },
      "source": [
        "Execute the following cell for plotting only false-positive datapoints in the given test set assuming IoU for such a false-positive with all bounding boxes in the annotated output is less than 0.5\n",
        "\n",
        "False positive - Present in output not in dataset"
      ]
    },
    {
      "cell_type": "code",
      "metadata": {
        "id": "pWXYOw4pE6_K"
      },
      "source": [
        "path_output  = #<Path to the bbox output given by network>\n",
        "path_true    = #<Path to original image and true bbox directory> \n",
        "path_fp      = #<Path where images are to be stored> \n",
        "list_output = []\n",
        "\n",
        "for r, d, f in os.walk(path_output):\n",
        "    for file in f:\n",
        "        if '.txt' in file:\n",
        "            if file != 'classes.txt':\n",
        "          \t    list_output.append(file)\n",
        "\n",
        "for loc in list_output:\n",
        "    file_output = path_output + loc\n",
        "    file_true = path_true + loc\n",
        "    img_loc = loc[:-4] + '.jpg'\n",
        "    img_path = path_true + img_loc\n",
        "    img_path_out = path_fp + img_loc\n",
        "    bbox_output = []\n",
        "    bbox_true = []\n",
        "    line_1 = []\n",
        "    line_2 = []\n",
        "    fp_bbox = []\n",
        "    line_1 = open(file_output,\"r\").readlines()\n",
        "    try:\n",
        "        line_2 = open(file_true,\"r\").readlines()\n",
        "    except FileNotFoundError:\n",
        "        print(\"Wrong file or file path\")\n",
        "    if line_2 == [] : \n",
        "        for entry in line_1:\n",
        "            bbox_1 = (entry.split(' ')[1:5])\n",
        "            fp_bbox.append(bbox_1)\n",
        "    else:\n",
        "        for entry in line_1:\n",
        "            bbox_1 = (entry.split(' ')[1:5])\n",
        "            bbox_1 = [float(item) for item in bbox_1]\n",
        "            bbox_output.append(bbox_1)\n",
        "        for entry in line_2:\n",
        "            bbox_2 = (entry.split(' ')[1:5])\n",
        "            bbox_2 = [float(item) for item in bbox_2]\n",
        "            bbox_true.append(bbox_2)  \n",
        "        for i in bbox_output:\n",
        "            iou = []\n",
        "            for j in bbox_true:\n",
        "                iou.append(bbox_iou(i,j))\n",
        "            if max(iou) > 0.5:\n",
        "                pass\n",
        "            else : \n",
        "                fp_bbox.append([str(var) for var in i])\n",
        "    if fp_bbox == [] :\n",
        "        pass\n",
        "    else:\n",
        "        fp_img = []\n",
        "        for entry in fp_bbox:\n",
        "            bbox_fp = [float(item) for item in entry]\n",
        "            fp_img.append(bbox_fp)\n",
        "  \n",
        "        frame = cv2.imread(img_path)\n",
        "        height,width = frame.shape[0],frame.shape[1]\n",
        "        for (x,y,w,h) in fp_img:\n",
        "            left =int((x - (w/2))*width)\n",
        "            right = int((x + (w/2))*width)\n",
        "            bottom = int((y + (h/2))*height)\n",
        "            top = int((y - (h/2))*height)\n",
        "            cv2.rectangle(frame, (left, top), (right, bottom), (0,255, 0), 2)\n",
        "        cv2.imwrite(img_path_out,frame)\n",
        "\n",
        "cv2.destroyAllWindows()"
      ],
      "execution_count": null,
      "outputs": []
    },
    {
      "cell_type": "markdown",
      "metadata": {
        "id": "8EtBTvyBOSYq"
      },
      "source": [
        "Execute the following cell for plotting only false-negative datapoints in the given test set assuming IoU for such a false-negative with all bounding boxes in the predicted output is less than 0.5\n",
        "\n",
        "False-negative - Present in ground truth not present in output"
      ]
    },
    {
      "cell_type": "code",
      "metadata": {
        "id": "JT1e-Mo6MCPV"
      },
      "source": [
        "path_output  = #<Path to the bbox output given by network>\n",
        "path_true    = #<Path to original image and true bbox directory> \n",
        "path_fn      = #<Path where images are to be stored> \n",
        "list_true = []\n",
        "\n",
        "for r, d, f in os.walk(path_true):\n",
        "    for file in f:\n",
        "        if '.txt' in file:\n",
        "            if file != 'classes.txt':\n",
        "          \t    list_true.append(file)\n",
        "\n",
        "for loc in list_true:\n",
        "    file_output = path_output + loc\n",
        "    file_true = path_true + loc\n",
        "    img_loc = loc[:-4] + '.jpg'\n",
        "    img_path = path_true + img_loc\n",
        "    img_path_out = path_fn + img_loc\n",
        "    bbox_output = []\n",
        "    bbox_true = []\n",
        "    line_1 = []\n",
        "    line_2 = []\n",
        "    fn_bbox = []\n",
        "    line_1 = open(file_true,\"r\").readlines()\n",
        "    try:\n",
        "        line_2 = open(file_output,\"r\").readlines()\n",
        "    except FileNotFoundError:\n",
        "        print(\"Wrong file or file path\")\n",
        "    if line_2 == [] : \n",
        "        for entry in line_1:\n",
        "            bbox_1 = (entry.split(' ')[1:5])\n",
        "            fn_bbox.append(bbox_1)\n",
        "    else:\n",
        "        for entry in line_1:\n",
        "            bbox_1 = (entry.split(' ')[1:5])\n",
        "            bbox_1 = [float(item) for item in bbox_1]\n",
        "            bbox_output.append(bbox_1)\n",
        "        for entry in line_2:\n",
        "            bbox_2 = (entry.split(' ')[1:5])\n",
        "            bbox_2 = [float(item) for item in bbox_2]\n",
        "            bbox_true.append(bbox_2)  \n",
        "        for i in bbox_output:\n",
        "            iou = []\n",
        "            for j in bbox_true:\n",
        "                iou.append(bbox_iou(i,j))\n",
        "            if max(iou) > 0.5:\n",
        "                pass\n",
        "            else : \n",
        "                fn_bbox.append([str(var) for var in i])\n",
        "    if fn_bbox == [] :\n",
        "        pass\n",
        "    else:\n",
        "        fn_img = []\n",
        "        for entry in fn_bbox:\n",
        "            bbox_fn = [float(item) for item in entry]\n",
        "            fn_img.append(bbox_fn)\n",
        "  \n",
        "        frame = cv2.imread(img_path)\n",
        "        height,width = frame.shape[0],frame.shape[1]\n",
        "        for (x,y,w,h) in fn_img:\n",
        "            left =int((x - (w/2))*width)\n",
        "            right = int((x + (w/2))*width)\n",
        "            bottom = int((y + (h/2))*height)\n",
        "            top = int((y - (h/2))*height)\n",
        "            cv2.rectangle(frame, (left, top), (right, bottom), (0,0,255), 2)\n",
        "        cv2.imwrite(img_path_out,frame)\n",
        "\n",
        "   \n",
        "\n",
        "cv2.destroyAllWindows()"
      ],
      "execution_count": null,
      "outputs": []
    }
  ]
}